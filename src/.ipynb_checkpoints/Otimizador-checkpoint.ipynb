{
 "cells": [
  {
   "cell_type": "markdown",
   "metadata": {
    "heading_collapsed": true
   },
   "source": [
    "# Jerk"
   ]
  },
  {
   "cell_type": "markdown",
   "metadata": {
    "hidden": true
   },
   "source": []
  },
  {
   "cell_type": "markdown",
   "metadata": {
    "heading_collapsed": true
   },
   "source": [
    "# PID\n"
   ]
  },
  {
   "cell_type": "markdown",
   "metadata": {
    "hidden": true
   },
   "source": []
  },
  {
   "cell_type": "markdown",
   "metadata": {},
   "source": [
    "# Algoritmo"
   ]
  },
  {
   "cell_type": "markdown",
   "metadata": {},
   "source": [
    "O otimizador utilizou [Stochastic universal sampling(SUS)](https://en.wikipedia.org/wiki/Stochastic_universal_sampling)"
   ]
  },
  {
   "cell_type": "markdown",
   "metadata": {},
   "source": [
    "# Parâmetros"
   ]
  },
  {
   "cell_type": "markdown",
   "metadata": {},
   "source": [
    "Aqui faço a escolha de alguns parêmetros que serão utilizados bem como importo bibliotecas que serão utilizadas."
   ]
  },
  {
   "cell_type": "code",
   "execution_count": 52,
   "metadata": {
    "ExecuteTime": {
     "end_time": "2018-04-06T10:45:25.197000-03:00",
     "start_time": "2018-04-06T13:45:25.182Z"
    }
   },
   "outputs": [],
   "source": [
    "include(\"search-model.jl\")\n",
    "using Evolutionary;"
   ]
  },
  {
   "cell_type": "code",
   "execution_count": 53,
   "metadata": {
    "ExecuteTime": {
     "end_time": "2018-04-06T10:45:25.201000-03:00",
     "start_time": "2018-04-06T13:45:25.196Z"
    }
   },
   "outputs": [],
   "source": [
    "Ts     = 0.05 # Intervalo entre leituras da saída\n",
    "tend   = 2.0  # tempo final para estabilização\n",
    "t0     = 0.0  # instante inicial\n",
    "r1     = 0.6  # referência junta 1\n",
    "r2     = 0.8  # referência junta 2\n",
    "popul  = 50   # população\n",
    "iterac = 50;   #iterações"
   ]
  },
  {
   "cell_type": "markdown",
   "metadata": {
    "heading_collapsed": true
   },
   "source": [
    "# Gerador"
   ]
  },
  {
   "cell_type": "markdown",
   "metadata": {
    "hidden": true
   },
   "source": [
    "Aqui criei algumas funções para serem utilizadas na geração da população inicial. Como será visto posteriormente, dependendo da função geredora inicial temos diferentes resultados, isto para o cenário de 50 iterações do algoritmo genético (valor este utilizado para obter uma saída mais rápida)."
   ]
  },
  {
   "cell_type": "code",
   "execution_count": 54,
   "metadata": {
    "ExecuteTime": {
     "end_time": "2018-04-06T10:45:25.215000-03:00",
     "start_time": "2018-04-06T13:45:25.208Z"
    },
    "hidden": true
   },
   "outputs": [
    {
     "data": {
      "text/plain": [
       "gerador7 (generic function with 1 method)"
      ]
     },
     "execution_count": 54,
     "metadata": {},
     "output_type": "execute_result"
    }
   ],
   "source": [
    "function gerador1(n)\n",
    "    out = rand(n).*[1000., 1000., 100., 100.]\n",
    "end\n",
    "function gerador2(n)\n",
    "    out = rand(n).*[100., 100., 100., 100.]\n",
    "end\n",
    "function gerador3(n)\n",
    "    out = rand(n).*[10., 10., 10., 10.]\n",
    "end\n",
    "function gerador4(n)\n",
    "    out = rand(n).*[10000., 100., 100., 100.]\n",
    "end\n",
    "function gerador5(n)\n",
    "    out = rand(n).*[1000., 100., 1000., 100.]\n",
    "end\n",
    "function gerador6(n)\n",
    "    out = rand(n).*[10000., 100., 1000., 100.]\n",
    "end\n",
    "function gerador7(n)\n",
    "    out = rand(n).*[1000., 1000., 1000., 1000.]\n",
    "end"
   ]
  },
  {
   "cell_type": "markdown",
   "metadata": {
    "heading_collapsed": true
   },
   "source": [
    "# Função custo"
   ]
  },
  {
   "cell_type": "markdown",
   "metadata": {
    "hidden": true
   },
   "source": [
    "**Foram realizados teste com diferentes tipo de funções custo mas a que obteve um melhor resultado foi:**\n",
    "\n",
    " $$ z = \\alpha\\sum{|e|}+\\beta\\sum{|J|} ,$$\n",
    "**onde:**\n",
    "\n",
    "- **$|e|$ é o valor absoluto do erro**\n",
    "- **$|J|$ é o valor absoluto do jerk**\n",
    "- **$\\alpha$ e $\\beta$ são variáveis utilizadas para colocar todos os elementos na mesma ordem de grandeza.**\n",
    "\n",
    "**Foi necessário colocar o jerk e o erro na mesma ordem de grandeza pois o algoritmo acabava privilegiando a minimização de um destes devido a grande fiferença entre eles. Outras formas foram testadas mas a que apresentou melhores resultados foi a mostrada acima.**\n",
    "\n",
    "**Outra coisa que modifica o comportamento é a parti de que instante de tempo é realizada a leitura do vetor erro, se for feita a leitura de todo o vetor, o comportamento da resposta é mais agressivo, fazendo com que chegue ao objetivo mais rápido porém com um custo de um jerk maior. O valor de 2/3 do total do vetor apresentou bons resultados.**"
   ]
  },
  {
   "cell_type": "code",
   "execution_count": 55,
   "metadata": {
    "ExecuteTime": {
     "end_time": "2018-04-06T10:45:25.232000-03:00",
     "start_time": "2018-04-06T13:45:25.220Z"
    },
    "hidden": true
   },
   "outputs": [],
   "source": [
    "function custo(x::Vector{Float64})\n",
    "    kp = SMatrix{2,2}(diagm([x[1], x[2]]))\n",
    "    kv = SMatrix{2,2}(diagm([x[3], x[4]]))\n",
    "    x, v, t, a, ta, j, tj = simulation(kp, kv, Ts, t0, tend, r1, r2)\n",
    "    erro1 =  - (x[1] - r1)\n",
    "    erro2 =  - (x[2] - r2)\n",
    "    sizeVector = length(erro1)\n",
    "\n",
    "    erro_end_1 = sum(abs.(erro1[floor(Integer,sizeVector/3):end]))\n",
    "    erro_end_2 = sum(abs.(erro2[floor(Integer,sizeVector/3):end]))\n",
    "\n",
    "    jerk_1 = sum(abs.(j[1]))\n",
    "    jerk_2 = sum(abs.(j[2]))\n",
    "\n",
    "    erro_end = erro_end_1 + erro_end_2\n",
    "    jerk = jerk_1 + jerk_2\n",
    "\n",
    "    erro_end = erro_end*10.\n",
    "    jerk = jerk*0.01\n",
    "\n",
    "    out =  erro_end + jerk\n",
    "    #println(\" $(erro_end) | $(jerk) | $(out)\")\n",
    "    out\n",
    "    end;\n"
   ]
  },
  {
   "cell_type": "markdown",
   "metadata": {},
   "source": [
    "# Simulação"
   ]
  },
  {
   "cell_type": "markdown",
   "metadata": {},
   "source": [
    "**Aqui é realizada a simulação para o algoritmo de controle com o otimizador.**"
   ]
  },
  {
   "cell_type": "code",
   "execution_count": 65,
   "metadata": {
    "ExecuteTime": {
     "end_time": "2018-04-06T10:56:33.371000-03:00",
     "start_time": "2018-04-06T13:56:19.276Z"
    },
    "scrolled": false
   },
   "outputs": [],
   "source": [
    "N = 4\n",
    "# result, fitness, cnt = ga(custo, N; initPopulation = gerador6, populationSize = popul, ɛ = 0.1, selection = roulette, crossover = intermediate(0.25), mutation = domainrange(fill(0.5,N)), iterations = iterac)\n",
    "result, fitness, cnt = ga(custo, N; initPopulation = gerador6, populationSize = popul, ɛ = 0.1, selection = sus, crossover = intermediate(0.25), mutation = domainrange(fill(0.5,N)), iterations = iterac)\n",
    "t_end_new = tend \n",
    "kp = SMatrix{2,2}(diagm(result[1:2]))\n",
    "kv = SMatrix{2,2}(diagm(result[3:4]))\n",
    "\n",
    "x, v, t, a, ta, j, tj = simulation(kp, kv, Ts, t0, t_end_new, r1, r2);\n",
    "\n",
    "table1 = \"|-------- | junta 1  | junta 2 |\n",
    "|--------| ------------- | ------------- |\n",
    "|**erro final**| $(rad2deg(x[1][end] - r1)) graus  | $(rad2deg(x[2][end] - r2)) graus  |\n",
    "|**total jerk **| $(sum(abs.(j[1])))  rad/sec³  | $(sum(abs.(j[2])))  rad/sec³  |\n",
    "|**máximo jerk**| $(maximum(abs.(j[1])))  rad/sec³  | $(maximum(abs.(j[2])))  rad/sec³ |\"\n",
    "\n",
    "function plotx()\n",
    "    p1 = plot(t,x[1], label = \"desejado 1\")\n",
    "    p1= plot!([r1],seriestype= :hline, label = \"referência\");\n",
    "    p2 = plot(t,x[2], label = \"desejado 2\")\n",
    "    p2 = plot!([r2],seriestype= :hline, label = \"referência\");\n",
    "    plot(p1,p2)\n",
    "end\n",
    "\n",
    "function plotj()\n",
    "    p1 = plot(tj,j[1], label = \"jerk 1\")\n",
    "    p2 = plot(tj,j[2], label = \"jerk 2\")\n",
    "    plot(p1,p2)\n",
    "end;\n",
    "\n",
    "plotx()"
   ]
  },
  {
   "cell_type": "markdown",
   "metadata": {},
   "source": [
    "**A tabela a seguir apresenta um resumo dos resultados para o PID otimizado.**"
   ]
  },
  {
   "cell_type": "code",
   "execution_count": 58,
   "metadata": {
    "ExecuteTime": {
     "end_time": "2018-04-06T10:45:37.754000-03:00",
     "start_time": "2018-04-06T13:45:25.248Z"
    }
   },
   "outputs": [
    {
     "data": {
      "text/markdown": [
       "|            –––– |                     junta 1 |                      junta 2 |\n",
       "| ---------------:| ---------------------------:| ----------------------------:|\n",
       "|  **erro final** |   -0.4138804514340946 graus |   -0.09058497767784152 graus |\n",
       "| **total jerk ** |  1078.92110560707  rad/sec³ | 1398.9567908766235  rad/sec³ |\n",
       "| **máximo jerk** | 932.5401175000322  rad/sec³ | 1221.8640780073617  rad/sec³ |\n"
      ],
      "text/plain": [
       "|            –––– |                     junta 1 |                      junta 2 |\n",
       "| ---------------:| ---------------------------:| ----------------------------:|\n",
       "|  **erro final** |   -0.4138804514340946 graus |   -0.09058497767784152 graus |\n",
       "| **total jerk ** |  1078.92110560707  rad/sec³ | 1398.9567908766235  rad/sec³ |\n",
       "| **máximo jerk** | 932.5401175000322  rad/sec³ | 1221.8640780073617  rad/sec³ |\n"
      ]
     },
     "execution_count": 58,
     "metadata": {},
     "output_type": "execute_result"
    }
   ],
   "source": [
    "Markdown.parse(table1)"
   ]
  },
  {
   "cell_type": "markdown",
   "metadata": {
    "heading_collapsed": true
   },
   "source": [
    "# PID clássico"
   ]
  },
  {
   "cell_type": "code",
   "execution_count": 61,
   "metadata": {
    "ExecuteTime": {
     "end_time": "2018-04-06T10:47:32.710000-03:00",
     "start_time": "2018-04-06T13:47:32.126Z"
    },
    "hidden": true
   },
   "outputs": [
    {
     "data": {
      "image/png": "[encoded data removed]"
     },
     "execution_count": 61,
     "metadata": {},
     "output_type": "execute_result"
    }
   ],
   "source": [
    "kp_pid = SMatrix{2,2}(diagm([2800., 80.]))\n",
    "kv_pid = SMatrix{2,2}(diagm([315., 15.]))\n",
    "x_pid, v_pid, t_pid, a_pid, ta_pid, j_pid, tj_pid = simulation(kp_pid, kv_pid, Ts, t0, tend, r1, r2)\n",
    "erro1 = -(x_pid[1] - r1)\n",
    "erro2 = -(x_pid[2] - r2)\n",
    "table2 = \"|-------- | junta 1  | junta 2 |\n",
    "|--------| ------------- | ------------- |\n",
    "|**erro final**| $(rad2deg(x_pid[1][end] - r1)) graus  | $(rad2deg(x_pid[2][end] - r2)) graus  |\n",
    "|**total jerk **| $(sum(abs.(j_pid[1])))  rad/sec³  | $(sum(abs.(j_pid[2])))  rad/sec³  |\n",
    "|**máximo jerk**| $(maximum(abs.(j_pid[1])))  rad/sec³  | $(maximum(abs.(j_pid[2])))  rad/sec³ |\"\n",
    "\n",
    "p1 = plot(t_pid,x_pid[1], label = \"pid 1\")\n",
    "p1= plot!([r1],seriestype= :hline, label = \"referência\");\n",
    "p2 = plot(t_pid,x_pid[2], label = \"pid 2\")\n",
    "p2 = plot!([r2],seriestype= :hline, label = \"referência\");\n",
    "\n",
    "plot(p1,p2)\n"
   ]
  },
  {
   "cell_type": "markdown",
   "metadata": {
    "hidden": true
   },
   "source": [
    "**A tabela a seguir apresenta um resumo dos resultados para o PID clássico.**"
   ]
  },
  {
   "cell_type": "code",
   "execution_count": 62,
   "metadata": {
    "ExecuteTime": {
     "end_time": "2018-04-06T10:47:37.814000-03:00",
     "start_time": "2018-04-06T13:47:37.808Z"
    },
    "hidden": true
   },
   "outputs": [
    {
     "data": {
      "text/markdown": [
       "|            –––– |                      junta 1 |                      junta 2 |\n",
       "| ---------------:| ----------------------------:| ----------------------------:|\n",
       "|  **erro final** |   -0.46087349666293315 graus |   -0.07844262693506009 graus |\n",
       "| **total jerk ** | 2588.7400924277417  rad/sec³ |   2353.94314070317  rad/sec³ |\n",
       "| **máximo jerk** | 2035.2352092288643  rad/sec³ | 1950.6663211035006  rad/sec³ |\n"
      ],
      "text/plain": [
       "|            –––– |                      junta 1 |                      junta 2 |\n",
       "| ---------------:| ----------------------------:| ----------------------------:|\n",
       "|  **erro final** |   -0.46087349666293315 graus |   -0.07844262693506009 graus |\n",
       "| **total jerk ** | 2588.7400924277417  rad/sec³ |   2353.94314070317  rad/sec³ |\n",
       "| **máximo jerk** | 2035.2352092288643  rad/sec³ | 1950.6663211035006  rad/sec³ |\n"
      ]
     },
     "execution_count": 62,
     "metadata": {},
     "output_type": "execute_result"
    }
   ],
   "source": [
    "Markdown.parse(table2)\n"
   ]
  },
  {
   "cell_type": "code",
   "execution_count": null,
   "metadata": {
    "hidden": true
   },
   "outputs": [],
   "source": []
  }
 ],
 "metadata": {
  "kernelspec": {
   "display_name": "Julia 0.6.2",
   "language": "julia",
   "name": "julia-0.6"
  },
  "language_info": {
   "file_extension": ".jl",
   "mimetype": "application/julia",
   "name": "julia",
   "version": "0.6.2"
  },
  "notify_time": "5"
 },
 "nbformat": 4,
 "nbformat_minor": 2
}
