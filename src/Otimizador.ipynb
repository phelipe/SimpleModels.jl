{
 "cells": [
  {
   "cell_type": "markdown",
   "metadata": {
    "heading_collapsed": true
   },
   "source": [
    "# Jerk"
   ]
  },
  {
   "cell_type": "markdown",
   "metadata": {
    "hidden": true
   },
   "source": []
  },
  {
   "cell_type": "markdown",
   "metadata": {
    "heading_collapsed": true
   },
   "source": [
    "# PID\n"
   ]
  },
  {
   "cell_type": "markdown",
   "metadata": {
    "hidden": true
   },
   "source": []
  },
  {
   "cell_type": "markdown",
   "metadata": {
    "heading_collapsed": true
   },
   "source": [
    "# Algoritmo"
   ]
  },
  {
   "cell_type": "markdown",
   "metadata": {
    "hidden": true
   },
   "source": []
  },
  {
   "cell_type": "markdown",
   "metadata": {
    "heading_collapsed": true
   },
   "source": [
    "# Gerador inicial"
   ]
  },
  {
   "cell_type": "markdown",
   "metadata": {
    "hidden": true
   },
   "source": []
  },
  {
   "cell_type": "code",
   "execution_count": 7,
   "metadata": {
    "hidden": true
   },
   "outputs": [
    {
     "data": {
      "text/plain": [
       "gerador (generic function with 1 method)"
      ]
     },
     "execution_count": 7,
     "metadata": {},
     "output_type": "execute_result"
    }
   ],
   "source": [
    "function gerador(n)\n",
    "    a = 6.\n",
    "    out = rand(n)\n",
    "    if a == 1\n",
    "        out = rand(n).*[1000., 1000., 100., 100.]\n",
    "    elseif a == 2\n",
    "        out = rand(n).*[100., 100., 100., 100.]\n",
    "    elseif a == 3\n",
    "        out = rand(n).*[10., 10., 10., 10.]\n",
    "    elseif a == 4\n",
    "        out = rand(n).*[10000., 100., 100., 100.]\n",
    "    elseif a == 5\n",
    "        out = rand(n).*[1000., 100., 1000., 100.]\n",
    "    elseif a == 6\n",
    "        out = rand(n).*[10000., 100., 1000., 100.]\n",
    "    else\n",
    "        out = rand(n).*[1000., 1000., 1000., 1000.]\n",
    "    end\n",
    "    out\n",
    "end\n"
   ]
  },
  {
   "cell_type": "markdown",
   "metadata": {
    "heading_collapsed": true
   },
   "source": [
    "# Parâmetros"
   ]
  },
  {
   "cell_type": "markdown",
   "metadata": {
    "hidden": true
   },
   "source": []
  },
  {
   "cell_type": "code",
   "execution_count": 8,
   "metadata": {
    "hidden": true
   },
   "outputs": [],
   "source": [
    "include(\"search-model.jl\")\n",
    "using Evolutionary;"
   ]
  },
  {
   "cell_type": "code",
   "execution_count": 9,
   "metadata": {
    "hidden": true
   },
   "outputs": [],
   "source": [
    "Ts = 0.05 # Intervalo entre leituras da saída\n",
    "tend = 2.0 # tempo final para estabilização\n",
    "t0 = 0.0 # instante inicial\n",
    "r1 =  0.6# referência junta 1\n",
    "r2 =  0.8;# referência junta 2;"
   ]
  },
  {
   "cell_type": "markdown",
   "metadata": {},
   "source": [
    "# Função custo"
   ]
  },
  {
   "cell_type": "code",
   "execution_count": 10,
   "metadata": {},
   "outputs": [],
   "source": [
    "function custo(x::Vector{Float64})\n",
    "    kp = SMatrix{2,2}(diagm([x[1], x[2]]))\n",
    "    kv = SMatrix{2,2}(diagm([x[3], x[4]]))\n",
    "    x, v, t, a, ta, j, tj = simulation(kp, kv, Ts, t0, tend, r1, r2)\n",
    "    erro1 =  - (x[1] - r1)\n",
    "    erro2 =  - (x[2] - r2)\n",
    "    sizeVector = length(erro1)\n",
    "\n",
    "    theta_init_1 = sum(abs.(x[1][1:floor(Integer,sizeVector/3)]))\n",
    "    theta_init_2 = sum(abs.(x[2][1:floor(Integer,sizeVector/3)]))\n",
    "\n",
    "    erro_end_1 = sum(abs.(erro1[floor(Integer,sizeVector/3):end]))\n",
    "    erro_end_2 = sum(abs.(erro2[floor(Integer,sizeVector/3):end]))\n",
    "\n",
    "    jerk_1 = sum(abs.(j[1]))\n",
    "    jerk_2 = sum(abs.(j[2]))\n",
    "\n",
    "    theta_init = theta_init_1 + theta_init_2\n",
    "    erro_end = erro_end_1 + erro_end_2\n",
    "    jerk = jerk_1 + jerk_2\n",
    "\n",
    "    erro_end = erro_end*10.\n",
    "    jerk = jerk*0.01\n",
    "\n",
    "    out =  erro_end + jerk\n",
    "    #println(\"$(theta_init) | $(erro_end) | $(jerk) | $(out)\")\n",
    "    out\n",
    "    end;\n"
   ]
  },
  {
   "cell_type": "code",
   "execution_count": 11,
   "metadata": {},
   "outputs": [
    {
     "name": "stdout",
     "output_type": "stream",
     "text": [
      "Iniciando algoritmo genético\n",
      "------------------------------------------------------------\n",
      "O resultado foi [4318.59, 84.6921, 1103.96, 22.2556] com 50 iterações e 34.362912461684566\n",
      "posição 1 final: 34.065902522309536 graus, posição 2 final 45.74434421360447 graus\n",
      "erro 1 final: -0.31156518553985674 graus, erro 2 final -0.09227939686139285 graus\n",
      "erro 1% = 0.9063063870429211%, erro 2% = 0.20132241337322831%\n",
      "Total jerk 1 = 1061.4917020692199, Total jerk 2 = 1417.282259880678\n",
      "Max jerk 1 = 919.7834472357287, Max jerk 2 = 1235.151700618276\n"
     ]
    }
   ],
   "source": [
    "println(\"Iniciando algoritmo genético\")\n",
    "N = 4\n",
    "result, fitness, cnt = ga(custo, N; initPopulation = gerador, populationSize = 50, ɛ = 0.1, selection = sus, crossover = intermediate(0.25), mutation = domainrange(fill(0.5,N)), iterations = 50)\n",
    "\n",
    "t_end_new = tend \n",
    "kp = SMatrix{2,2}(diagm(result[1:2]))\n",
    "kv = SMatrix{2,2}(diagm(result[3:4]))\n",
    "\n",
    "x, v, t, a, ta, j, tj = simulation(kp, kv, Ts, t0, t_end_new, r1, r2);\n",
    "\n",
    "println(\"------------------------------------------------------------\")\n",
    "println(\"O resultado foi $(result) com $(cnt) iterações e $(fitness)\")\n",
    "println(\"posição 1 final: $(rad2deg(x[1][end])) graus, posição 2 final $(rad2deg(x[2][end])) graus\")\n",
    "println(\"erro 1 final: $(rad2deg(x[1][end] - r1)) graus, erro 2 final $(rad2deg(x[2][end] - r2)) graus\")\n",
    "println(\"erro 1% = $(((r1 - x[1][end])/r1)*100)%, erro 2% = $(((r2 - x[2][end])/r2)*100)%\")\n",
    "println(\"Total jerk 1 = $(sum(abs.(j[1]))), Total jerk 2 = $(sum(abs.(j[2])))\")\n",
    "println(\"Max jerk 1 = $(maximum(abs.(j[1]))), Max jerk 2 = $(maximum(abs.(j[2])))\")\n",
    "\n",
    "function plotx()\n",
    "    p1 = plot(t,x[1], label = \"desejado 1\")\n",
    "    p1= plot!([r1],seriestype= :hline, label = \"referência\");\n",
    "    p2 = plot(t,x[2], label = \"desejado 2\")\n",
    "    p2 = plot!([r2],seriestype= :hline, label = \"referência\");\n",
    "    plot(p1,p2)\n",
    "end\n",
    "\n",
    "function plotj()\n",
    "    p1 = plot(tj,j[1], label = \"jerk 1\")\n",
    "    p2 = plot(tj,j[2], label = \"jerk 2\")\n",
    "    plot(p1,p2)\n",
    "end;\n"
   ]
  },
  {
   "cell_type": "code",
   "execution_count": 12,
   "metadata": {},
   "outputs": [
    {
     "data": {
      "image/png": "[encoded data removed]"
     },
     "execution_count": 12,
     "metadata": {},
     "output_type": "execute_result"
    }
   ],
   "source": [
    "plotx()"
   ]
  }
 ],
 "metadata": {
  "kernelspec": {
   "display_name": "Julia 0.6.2",
   "language": "julia",
   "name": "julia-0.6"
  },
  "language_info": {
   "file_extension": ".jl",
   "mimetype": "application/julia",
   "name": "julia",
   "version": "0.6.2"
  }
 },
 "nbformat": 4,
 "nbformat_minor": 2
}
